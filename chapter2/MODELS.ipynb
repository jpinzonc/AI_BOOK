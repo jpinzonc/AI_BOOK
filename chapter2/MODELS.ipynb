{
 "cells": [
  {
   "cell_type": "markdown",
   "metadata": {},
   "source": [
    "IOS/ANDROID APP WITH AI"
   ]
  },
  {
   "cell_type": "code",
   "execution_count": 1,
   "metadata": {},
   "outputs": [
    {
     "name": "stderr",
     "output_type": "stream",
     "text": [
      "Using TensorFlow backend.\n"
     ]
    }
   ],
   "source": [
    "import numpy\n",
    "import pandas as pd\n",
    "from keras.models import Sequential\n",
    "from keras.layers import Dense\n",
    "from keras import optimizers\n",
    "from keras.wrappers.scikit_learn import KerasRegressor\n",
    "from sklearn.model_selection import cross_val_score\n",
    "from sklearn.model_selection import KFold\n",
    "from sklearn.preprocessing import StandardScaler\n",
    "from sklearn.pipeline import Pipeline"
   ]
  },
  {
   "cell_type": "code",
   "execution_count": 2,
   "metadata": {},
   "outputs": [],
   "source": [
    "dataframe = pd.read_csv(\"housing.csv\", sep=',', header=0)\n",
    "# Create an array with the data from the dataframe\n",
    "dataset = dataframe.values"
   ]
  },
  {
   "cell_type": "code",
   "execution_count": 4,
   "metadata": {},
   "outputs": [],
   "source": [
    "features = dataset[:,0:7]\n",
    "target = dataset[:,7]"
   ]
  },
  {
   "cell_type": "code",
   "execution_count": 5,
   "metadata": {},
   "outputs": [],
   "source": [
    "# fix random seed for reproducibility \n",
    "seed = 9 \n",
    "numpy.random.seed(seed)"
   ]
  },
  {
   "cell_type": "code",
   "execution_count": 9,
   "metadata": {},
   "outputs": [],
   "source": [
    "def simple_shallow_seq_net():\n",
    "   # create a sequential ANN \n",
    "    model = Sequential() \n",
    "    model.add(Dense(7, input_dim=7, kernel_initializer='normal', activation='sigmoid')) \n",
    "    model.add(Dense(1, kernel_initializer='normal')) \n",
    "    sgd = optimizers.SGD(lr=0.01) \n",
    "    model.compile(loss='mean_squared_error', optimizer=sgd) \n",
    "    return model"
   ]
  },
  {
   "cell_type": "code",
   "execution_count": 10,
   "metadata": {},
   "outputs": [],
   "source": [
    "seed = 9 \n",
    "kfold = KFold(n_splits=10, random_state=seed)"
   ]
  },
  {
   "cell_type": "code",
   "execution_count": 12,
   "metadata": {},
   "outputs": [],
   "source": [
    "estimator = KerasRegressor(build_fn=simple_shallow_seq_net, epochs=100, batch_size=50, verbose=0)\n"
   ]
  },
  {
   "cell_type": "code",
   "execution_count": 13,
   "metadata": {},
   "outputs": [
    {
     "name": "stdout",
     "output_type": "stream",
     "text": [
      "WARNING:tensorflow:From /Users/jpinzon/anaconda3/envs/ai-projects/lib/python3.6/site-packages/tensorflow/python/framework/op_def_library.py:263: colocate_with (from tensorflow.python.framework.ops) is deprecated and will be removed in a future version.\n",
      "Instructions for updating:\n",
      "Colocations handled automatically by placer.\n",
      "WARNING:tensorflow:From /Users/jpinzon/anaconda3/envs/ai-projects/lib/python3.6/site-packages/tensorflow/python/ops/math_ops.py:3066: to_int32 (from tensorflow.python.ops.math_ops) is deprecated and will be removed in a future version.\n",
      "Instructions for updating:\n",
      "Use tf.cast instead.\n",
      "simple_shallow_seq_model:(164.91) MSE\n"
     ]
    }
   ],
   "source": [
    "results = cross_val_score(estimator, features, target, cv=kfold) \n",
    "print(\"simple_shallow_seq_model:(%.2f) MSE\" % (results.std()))"
   ]
  },
  {
   "cell_type": "code",
   "execution_count": 14,
   "metadata": {},
   "outputs": [],
   "source": [
    "estimator.fit(features, target)\n",
    "estimator.model.save('simple_shallow_seq_net.h5')"
   ]
  },
  {
   "cell_type": "code",
   "execution_count": 15,
   "metadata": {},
   "outputs": [],
   "source": [
    "estimators = [] \n",
    "estimators.append(('standardize', StandardScaler())) \n",
    "estimators.append(('estimator', KerasRegressor(build_fn=simple_shallow_seq_net, epochs=100, batch_size=50, verbose=0))) \n",
    "pipeline = Pipeline(estimators)"
   ]
  },
  {
   "cell_type": "code",
   "execution_count": 16,
   "metadata": {},
   "outputs": [
    {
     "name": "stdout",
     "output_type": "stream",
     "text": [
      "simple_std_shallow_seq_net:(68.16) MSE\n"
     ]
    }
   ],
   "source": [
    "results = cross_val_score(pipeline, features, target, cv=kfold) \n",
    "print(\"simple_std_shallow_seq_net:(%.2f) MSE\" % (results.std()))"
   ]
  },
  {
   "cell_type": "code",
   "execution_count": 17,
   "metadata": {},
   "outputs": [],
   "source": [
    "pipeline.fit(features, target) \n",
    "pipeline.named_steps['estimator'].model.save('standardised_shallow_seq_net.h5')"
   ]
  },
  {
   "cell_type": "code",
   "execution_count": 18,
   "metadata": {},
   "outputs": [],
   "source": [
    "def deep_seq_net(): \n",
    "    # create a deep sequential model \n",
    "    model = Sequential() \n",
    "    model.add(Dense(7, input_dim=7, kernel_initializer='normal', activation='sigmoid')) \n",
    "    model.add(Dense(7,activation='tanh')) \n",
    "    model.add(Dense(7,activation='sigmoid')) \n",
    "    model.add(Dense(7,activation='tanh')) \n",
    "    model.add(Dense(1, kernel_initializer='normal')) \n",
    "    sgd = optimizers.SGD(lr=0.01) \n",
    "    model.compile(loss='mean_squared_error', optimizer=sgd) \n",
    "    return model"
   ]
  },
  {
   "cell_type": "code",
   "execution_count": 22,
   "metadata": {},
   "outputs": [],
   "source": [
    "estimators = [] \n",
    "estimators.append(('standardize', StandardScaler())) \n",
    "estimators.append(('estimator', KerasRegressor(build_fn=deep_seq_net, epochs=100, batch_size=50, verbose=0)))\n",
    "pipeline = Pipeline(estimators)"
   ]
  },
  {
   "cell_type": "code",
   "execution_count": 23,
   "metadata": {},
   "outputs": [
    {
     "name": "stdout",
     "output_type": "stream",
     "text": [
      "simple_std_shallow_seq_net:(63.95) MSE\n"
     ]
    }
   ],
   "source": [
    "results = cross_val_score(pipeline, features, target, cv=kfold) \n",
    "print(\"simple_std_shallow_seq_net:(%.2f) MSE\" % (results.std()))"
   ]
  },
  {
   "cell_type": "code",
   "execution_count": 24,
   "metadata": {},
   "outputs": [],
   "source": [
    "pipeline.fit(features, target) \n",
    "pipeline.named_steps['estimator'].model.save('deep_seq_net.h5')"
   ]
  },
  {
   "cell_type": "code",
   "execution_count": 25,
   "metadata": {},
   "outputs": [],
   "source": [
    "def deep_and_wide_net(): \n",
    "    # create a sequential model \n",
    "    model = Sequential() \n",
    "    model.add(Dense(21, input_dim=7, kernel_initializer='normal', activation='relu')) \n",
    "    model.add(Dense(21,activation='relu')) \n",
    "    model.add(Dense(21,activation='relu')) \n",
    "    model.add(Dense(21,activation='sigmoid')) \n",
    "    model.add(Dense(1, kernel_initializer='normal')) \n",
    "    sgd = optimizers.SGD(lr=0.01) \n",
    "    model.compile(loss='mean_squared_error', optimizer=sgd) \n",
    "    return model"
   ]
  },
  {
   "cell_type": "code",
   "execution_count": 26,
   "metadata": {},
   "outputs": [],
   "source": [
    "estimators = [] \n",
    "estimators.append(('standardize', StandardScaler())) \n",
    "estimators.append(('estimator', KerasRegressor(build_fn=deep_and_wide_net, epochs=100, batch_size=50, verbose=0))) \n",
    "pipeline = Pipeline(estimators)"
   ]
  },
  {
   "cell_type": "code",
   "execution_count": 27,
   "metadata": {},
   "outputs": [
    {
     "name": "stdout",
     "output_type": "stream",
     "text": [
      "deep_and_wide_model:(59.28) MSE\n"
     ]
    }
   ],
   "source": [
    "results = cross_val_score(pipeline, features, target, cv=kfold) \n",
    "print(\"deep_and_wide_model:(%.2f) MSE\" % (results.std()))"
   ]
  },
  {
   "cell_type": "code",
   "execution_count": 28,
   "metadata": {},
   "outputs": [],
   "source": [
    "pipeline.fit(features, target) \n",
    "pipeline.named_steps['estimator'].model.save('deep_and_wide_net.h5')"
   ]
  },
  {
   "cell_type": "markdown",
   "metadata": {},
   "source": [
    "Using FLASK"
   ]
  },
  {
   "cell_type": "code",
   "execution_count": null,
   "metadata": {},
   "outputs": [],
   "source": []
  }
 ],
 "metadata": {
  "kernelspec": {
   "display_name": "Python 3",
   "language": "python",
   "name": "python3"
  },
  "language_info": {
   "codemirror_mode": {
    "name": "ipython",
    "version": 3
   },
   "file_extension": ".py",
   "mimetype": "text/x-python",
   "name": "python",
   "nbconvert_exporter": "python",
   "pygments_lexer": "ipython3",
   "version": "3.6.8"
  }
 },
 "nbformat": 4,
 "nbformat_minor": 2
}
